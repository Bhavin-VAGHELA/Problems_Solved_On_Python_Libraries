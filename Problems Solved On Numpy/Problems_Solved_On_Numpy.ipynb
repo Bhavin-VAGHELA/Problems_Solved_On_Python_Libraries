{
 "cells": [
  {
   "cell_type": "code",
   "execution_count": 1,
   "id": "0b4ef689-46f9-4fe2-bae5-13c123cae50c",
   "metadata": {},
   "outputs": [],
   "source": [
    "import numpy as np"
   ]
  },
  {
   "cell_type": "code",
   "execution_count": 2,
   "id": "18da864b-2797-420d-b075-02eea009abc1",
   "metadata": {},
   "outputs": [
    {
     "name": "stdout",
     "output_type": "stream",
     "text": [
      "[1 2 3 4 5]\n",
      "\n",
      "1\n"
     ]
    }
   ],
   "source": [
    "arr1=np.array([1,2,3,4,5])\n",
    "print(arr1)\n",
    "print()\n",
    "print(arr1.ndim)"
   ]
  },
  {
   "cell_type": "code",
   "execution_count": 3,
   "id": "55ec1645-9c05-4daf-a976-87b9b3da82e3",
   "metadata": {},
   "outputs": [
    {
     "name": "stdout",
     "output_type": "stream",
     "text": [
      "[[1 2]\n",
      " [3 4]]\n",
      "\n",
      "2\n"
     ]
    }
   ],
   "source": [
    "arr2=np.array([[1,2],[3,4]])\n",
    "print(arr2)\n",
    "print()\n",
    "print(arr2.ndim)"
   ]
  },
  {
   "cell_type": "code",
   "execution_count": 4,
   "id": "0a7ad438-986d-4669-a953-cb5472a7298c",
   "metadata": {},
   "outputs": [
    {
     "name": "stdout",
     "output_type": "stream",
     "text": [
      "[[[1 2 3]\n",
      "  [4 5 6]\n",
      "  [7 8 9]]]\n",
      "\n",
      "3\n"
     ]
    }
   ],
   "source": [
    "arr3=np.array([[[1,2,3],[4,5,6],[7,8,9]]])\n",
    "print(arr3)\n",
    "print()\n",
    "print(arr3.ndim)"
   ]
  },
  {
   "cell_type": "code",
   "execution_count": 5,
   "id": "d15e0b59-f7c9-4a8c-94c6-9becf5755689",
   "metadata": {},
   "outputs": [
    {
     "name": "stdout",
     "output_type": "stream",
     "text": [
      "[[[[ 1  2  3  4  5  6  6  7  8 10]]]]\n"
     ]
    }
   ],
   "source": [
    "arr4=np.array([1,2,3,4,5,6,6,7,8,10],ndmin=4)\n",
    "print(arr4)"
   ]
  },
  {
   "cell_type": "markdown",
   "id": "110cdd6a-e51a-4216-8ab2-371e37820c1b",
   "metadata": {},
   "source": [
    "# Numpy Functions"
   ]
  },
  {
   "cell_type": "code",
   "execution_count": 6,
   "id": "b3dd2440-055a-49e7-ab7b-6a560290c05c",
   "metadata": {},
   "outputs": [
    {
     "name": "stdout",
     "output_type": "stream",
     "text": [
      "[0. 0. 0. 0. 0.]\n"
     ]
    }
   ],
   "source": [
    "arr5=np.zeros(5)\n",
    "print(arr5)"
   ]
  },
  {
   "cell_type": "code",
   "execution_count": 7,
   "id": "c7a1b461-e8b5-41a3-a156-5657172404d9",
   "metadata": {},
   "outputs": [
    {
     "name": "stdout",
     "output_type": "stream",
     "text": [
      "[[0. 0. 0.]\n",
      " [0. 0. 0.]]\n"
     ]
    }
   ],
   "source": [
    "arr5=np.zeros((2,3))\n",
    "print(arr5)"
   ]
  },
  {
   "cell_type": "code",
   "execution_count": 8,
   "id": "082d85f0-15d7-4fd4-8c80-9b090d138a19",
   "metadata": {},
   "outputs": [
    {
     "name": "stdout",
     "output_type": "stream",
     "text": [
      "[1. 1. 1. 1. 1.]\n"
     ]
    }
   ],
   "source": [
    "arr6=np.ones(5)\n",
    "print(arr6)"
   ]
  },
  {
   "cell_type": "markdown",
   "id": "f3a14983-b684-4613-9190-aac09f9bee47",
   "metadata": {},
   "source": [
    "arr7=np.ones((3,3))\n",
    "print(arr7)"
   ]
  },
  {
   "cell_type": "code",
   "execution_count": 9,
   "id": "b4310ffa-56e9-40b8-9bca-2be09d4e23a7",
   "metadata": {},
   "outputs": [
    {
     "name": "stdout",
     "output_type": "stream",
     "text": [
      "[[1. 0. 0.]\n",
      " [0. 1. 0.]\n",
      " [0. 0. 1.]]\n"
     ]
    }
   ],
   "source": [
    "arr8=np.eye(3,3)\n",
    "print(arr8)"
   ]
  },
  {
   "cell_type": "markdown",
   "id": "d545ced5-3273-4347-b8f3-609fc939e217",
   "metadata": {},
   "source": [
    "# Range Functions "
   ]
  },
  {
   "cell_type": "code",
   "execution_count": 10,
   "id": "6ce8daad-245d-4c36-aa0c-c455beb0513a",
   "metadata": {},
   "outputs": [
    {
     "name": "stdout",
     "output_type": "stream",
     "text": [
      "[1 2 3 4 5 6 7 8 9]\n"
     ]
    }
   ],
   "source": [
    "arr9=np.arange(1,10)\n",
    "print(arr9)"
   ]
  },
  {
   "cell_type": "markdown",
   "id": "f2dbd2f3-ec9a-4ba1-be0d-c83d9ea71dd3",
   "metadata": {},
   "source": [
    "# Linspace"
   ]
  },
  {
   "cell_type": "code",
   "execution_count": 11,
   "id": "df4f3ede-172b-412b-a21f-e58dc63d8963",
   "metadata": {},
   "outputs": [
    {
     "name": "stdout",
     "output_type": "stream",
     "text": [
      "[1. 2. 3. 4. 5.]\n"
     ]
    }
   ],
   "source": [
    "arr10=np.linspace(1,5,num=5)\n",
    "print(arr10)"
   ]
  },
  {
   "cell_type": "markdown",
   "id": "b4aa9cca-6c26-4d6f-9553-022485cbaa28",
   "metadata": {},
   "source": [
    "# Random_Functions"
   ]
  },
  {
   "cell_type": "code",
   "execution_count": 12,
   "id": "921a7b0b-fa12-4130-a3bc-6260a73513fd",
   "metadata": {},
   "outputs": [
    {
     "name": "stdout",
     "output_type": "stream",
     "text": [
      "[0.71410045 0.12753721 0.95970661 0.34339514 0.21955658]\n"
     ]
    }
   ],
   "source": [
    "arr11=np.random.rand(5) # rand has a value range from 0 to 1 only\n",
    "print(arr11)"
   ]
  },
  {
   "cell_type": "code",
   "execution_count": 13,
   "id": "bd0eb34c-1561-4946-b95f-fae60d486b0a",
   "metadata": {},
   "outputs": [
    {
     "name": "stdout",
     "output_type": "stream",
     "text": [
      "[[3.00060090e-01 1.14011807e-01 4.90954280e-01 9.67727478e-01\n",
      "  4.00226954e-04]\n",
      " [2.67402684e-01 9.39993706e-01 5.04716073e-01 1.85259545e-01\n",
      "  3.27464115e-01]\n",
      " [8.04266029e-01 3.03461507e-01 6.17409876e-02 7.80345056e-01\n",
      "  4.17845000e-01]\n",
      " [2.27083654e-02 2.86264900e-01 7.27888021e-02 6.69837930e-01\n",
      "  3.42209686e-01]\n",
      " [3.51032483e-01 5.55471395e-01 9.13858520e-01 3.53400562e-01\n",
      "  2.83984982e-02]]\n"
     ]
    }
   ],
   "source": [
    "arr12=np.random.rand(5,5) # rand has a value range from 0 to 1 only\n",
    "print(arr12)"
   ]
  },
  {
   "cell_type": "code",
   "execution_count": 14,
   "id": "cbd0863a-ad2b-4ba7-85f4-a47c7a32a847",
   "metadata": {},
   "outputs": [
    {
     "name": "stdout",
     "output_type": "stream",
     "text": [
      "[-1.25777319 -0.65346732 -0.59149419  0.10051655  1.04324628  0.83696553\n",
      " -1.0297759  -0.41638695]\n"
     ]
    }
   ],
   "source": [
    "arr13=np.random.randn(8) # randn function has a value range from 0 to 1 and contain positive and negative numbers\n",
    "print(arr13)"
   ]
  },
  {
   "cell_type": "code",
   "execution_count": 15,
   "id": "83f36505-acbc-452a-8536-09b473c7d947",
   "metadata": {},
   "outputs": [
    {
     "name": "stdout",
     "output_type": "stream",
     "text": [
      "[[ 0.38483021 -0.70646371  0.39664148  0.62513827  0.99645859  1.19518843\n",
      "   0.24322414  0.19346274]\n",
      " [-0.61368583 -0.69702955  0.59676478 -0.73362992  0.72849463 -0.30590068\n",
      "   0.04321295 -0.31274011]]\n"
     ]
    }
   ],
   "source": [
    "arr13=np.random.randn(2,8) # randn function has a value range from 0 to 1 and contain positive and negative numbers\n",
    "print(arr13)"
   ]
  },
  {
   "cell_type": "code",
   "execution_count": 16,
   "id": "75e21196-1182-4af9-a836-2382bf954086",
   "metadata": {},
   "outputs": [
    {
     "name": "stdout",
     "output_type": "stream",
     "text": [
      "[0.04818727 0.32422298 0.52811347 0.39220677 0.15168886 0.04421174\n",
      " 0.9296509  0.10568337 0.30480043 0.01427201]\n"
     ]
    }
   ],
   "source": [
    "arr14=np.random.ranf(10) # ranf function has a value range from close to 0 but not include one\n",
    "print(arr14)"
   ]
  },
  {
   "cell_type": "code",
   "execution_count": 17,
   "id": "c455b5d5-5d08-4035-8986-6d0608293b5c",
   "metadata": {},
   "outputs": [
    {
     "name": "stdout",
     "output_type": "stream",
     "text": [
      "[6 9 4 4 7 8 9 6 9]\n"
     ]
    }
   ],
   "source": [
    "arr15=np.random.randint(1,10,9) # randint function has integer value \n",
    "print(arr15)"
   ]
  },
  {
   "cell_type": "markdown",
   "id": "8dac7ca2-6987-481d-ade7-3cebbb9e8fb3",
   "metadata": {},
   "source": [
    "# DataType Functions"
   ]
  },
  {
   "cell_type": "code",
   "execution_count": 18,
   "id": "b5350700-8be8-418e-be49-d116d738c357",
   "metadata": {},
   "outputs": [
    {
     "name": "stdout",
     "output_type": "stream",
     "text": [
      "float64\n"
     ]
    }
   ],
   "source": [
    "arr16=np.array([1.,2.,3.,4.])\n",
    "print(arr16.dtype)"
   ]
  },
  {
   "cell_type": "code",
   "execution_count": 19,
   "id": "9cdaad91-7445-429f-b8de-f46008608a1e",
   "metadata": {},
   "outputs": [
    {
     "name": "stdout",
     "output_type": "stream",
     "text": [
      "int64\n"
     ]
    }
   ],
   "source": [
    "arr16=np.array([1,2,3,4])\n",
    "print(arr16.dtype)"
   ]
  },
  {
   "cell_type": "code",
   "execution_count": 20,
   "id": "78805224-d8b4-43da-b8ea-68022e25bb96",
   "metadata": {},
   "outputs": [
    {
     "name": "stdout",
     "output_type": "stream",
     "text": [
      "The Array Before converting into another data type is:-\n",
      "[1 2 3 4 5]\n",
      "\n",
      "The Array After converting into another data type is:-\n",
      "[1. 2. 3. 4. 5.]\n"
     ]
    }
   ],
   "source": [
    "arr17=np.array([1,2,3,4,5])\n",
    "print(\"The Array Before converting into another data type is:-\")\n",
    "print(arr17)\n",
    "print()\n",
    "print(\"The Array After converting into another data type is:-\")\n",
    "arr17=np.array([1,2,3,4,5],dtype='f')\n",
    "print(arr17)"
   ]
  },
  {
   "cell_type": "code",
   "execution_count": 21,
   "id": "679a3488-4ccf-49ac-b505-edf37d1b2f31",
   "metadata": {},
   "outputs": [
    {
     "name": "stdout",
     "output_type": "stream",
     "text": [
      "[[1. 2.]\n",
      " [3. 4.]\n",
      " [5. 6.]]\n"
     ]
    }
   ],
   "source": [
    "arr18=np.array([[1,2],[3,4],[5,6]])\n",
    "arr19=arr18.astype(float) # astype func converts one datatype into another datatype (most fequently and commnly used in industry function)\n",
    "print(arr19)"
   ]
  },
  {
   "cell_type": "markdown",
   "id": "59291913-f55a-4b36-8011-f4e0782303a6",
   "metadata": {},
   "source": [
    "# Shaping And Reshaping Array Functions"
   ]
  },
  {
   "cell_type": "code",
   "execution_count": 22,
   "id": "a6941bef-de8e-47d2-b910-d057e8b9d42d",
   "metadata": {},
   "outputs": [
    {
     "name": "stdout",
     "output_type": "stream",
     "text": [
      "[[1 2]\n",
      " [3 4]\n",
      " [5 6]]\n",
      "\n",
      "The Array is of:- 2 Dimensions Array\n",
      "\n",
      "The Shape Of And Array is:- (3, 2)\n"
     ]
    }
   ],
   "source": [
    "arr20=np.array([[1,2],[3,4],[5,6]])\n",
    "print(arr20)\n",
    "print()\n",
    "print(\"The Array is of:-\",arr20.ndim,\"Dimensions Array\")\n",
    "print()\n",
    "print(\"The Shape Of And Array is:-\",arr20.shape)"
   ]
  },
  {
   "cell_type": "code",
   "execution_count": 23,
   "id": "ddf9b5ce-bd8c-4898-93e5-1aba1107e936",
   "metadata": {},
   "outputs": [
    {
     "name": "stdout",
     "output_type": "stream",
     "text": [
      "[ 1  2  3  4  5  6  7  8  9 10]\n",
      "\n",
      "The Array is of:- 1 Dimensions Array\n",
      "\n",
      "The Shape Of And Array is:- (10,)\n"
     ]
    }
   ],
   "source": [
    "arr21=np.array([1,2,3,4,5,6,7,8,9,10])\n",
    "print(arr21)\n",
    "print()\n",
    "print(\"The Array is of:-\",arr21.ndim,\"Dimensions Array\")\n",
    "print()\n",
    "print(\"The Shape Of And Array is:-\",arr21.shape)"
   ]
  },
  {
   "cell_type": "code",
   "execution_count": 24,
   "id": "d2120441-e41b-4a99-9209-9bbb89754b0d",
   "metadata": {},
   "outputs": [
    {
     "name": "stdout",
     "output_type": "stream",
     "text": [
      "[[[1 2 3]\n",
      "  [4 5 6]\n",
      "  [7 8 9]]]\n",
      "\n",
      "The Array is of:- 3 Dimensions Array\n",
      "\n",
      "The Shape Of And Array is:- (1, 3, 3)\n"
     ]
    }
   ],
   "source": [
    "arr21=np.array([[[1,2,3],[4,5,6],[7,8,9]]])\n",
    "print(arr21)\n",
    "print()\n",
    "print(\"The Array is of:-\",arr21.ndim,\"Dimensions Array\")\n",
    "print()\n",
    "print(\"The Shape Of And Array is:-\",arr21.shape)"
   ]
  },
  {
   "cell_type": "code",
   "execution_count": 25,
   "id": "ae70c031-d003-4dc7-83d4-137cd2a64c33",
   "metadata": {},
   "outputs": [
    {
     "name": "stdout",
     "output_type": "stream",
     "text": [
      "The Before reshaping is:- [1 2 3 4 5 6]\n",
      "\n",
      "The Array After reshaping is:-\n",
      "[[1 2]\n",
      " [3 4]\n",
      " [5 6]]\n"
     ]
    }
   ],
   "source": [
    "arr22=np.array([1,2,3,4,5,6])\n",
    "print(\"The Before reshaping is:-\",arr22)\n",
    "print()\n",
    "arr22=np.array([1,2,3,4,5,6]).reshape(3,2)\n",
    "print(\"The Array After reshaping is:-\")\n",
    "print(arr22)"
   ]
  },
  {
   "cell_type": "code",
   "execution_count": 26,
   "id": "5b69ace2-378d-4725-a0be-7fdd0593c858",
   "metadata": {},
   "outputs": [
    {
     "name": "stdout",
     "output_type": "stream",
     "text": [
      "The Before reshaping is:- [[[1 2 3]\n",
      "  [4 5 6]\n",
      "  [7 8 9]]]\n",
      "\n",
      "The Array After reshaping is:-\n",
      "[1 2 3 4 5 6 7 8 9]\n"
     ]
    }
   ],
   "source": [
    "arr23=np.array([[[1,2,3],[4,5,6],[7,8,9]]])\n",
    "print(\"The Before reshaping is:-\",arr23)\n",
    "print()\n",
    "arr23=np.array([[[1,2,3],[4,5,6],[7,8,9]]]).reshape(-1)\n",
    "print(\"The Array After reshaping is:-\")\n",
    "print(arr23)"
   ]
  },
  {
   "cell_type": "markdown",
   "id": "8a12a02c-dd38-43c7-8ab6-07a2afd0e6f9",
   "metadata": {},
   "source": [
    "# Acessing Array Elements,Indexing And Slicing Functions "
   ]
  },
  {
   "cell_type": "code",
   "execution_count": 27,
   "id": "330f50bb-534c-4faf-9414-20f74146709f",
   "metadata": {},
   "outputs": [
    {
     "name": "stdout",
     "output_type": "stream",
     "text": [
      "The Element Is:- 4\n"
     ]
    }
   ],
   "source": [
    "arr24=np.array([1,2,3,4,5,6]) \n",
    "              # 0,1,2,3,4,5\n",
    "print(\"The Element Is:-\",arr24[3])"
   ]
  },
  {
   "cell_type": "code",
   "execution_count": 28,
   "id": "76ec50fb-718e-4043-9672-3e3592a5fca1",
   "metadata": {},
   "outputs": [
    {
     "name": "stdout",
     "output_type": "stream",
     "text": [
      "[1 2 3 4 5 6]\n"
     ]
    }
   ],
   "source": [
    "arr25=np.array([1,2,3,4,5,6])\n",
    "              # 0,1,2,3,4,5\n",
    "print(arr25[0:])"
   ]
  },
  {
   "cell_type": "code",
   "execution_count": 29,
   "id": "ab57ec0d-0df8-4051-bde2-ab5bc861665a",
   "metadata": {},
   "outputs": [
    {
     "name": "stdout",
     "output_type": "stream",
     "text": [
      "[1 2 3]\n"
     ]
    }
   ],
   "source": [
    "arr25=np.array([1,2,3,4,5,6])\n",
    "              # 0,1,2,3,4,5\n",
    "print(arr25[0:3])"
   ]
  },
  {
   "cell_type": "code",
   "execution_count": 30,
   "id": "5159b641-aa0c-4060-adf5-60e85f47ff84",
   "metadata": {},
   "outputs": [
    {
     "name": "stdout",
     "output_type": "stream",
     "text": [
      "[2 3 4 5 6]\n"
     ]
    }
   ],
   "source": [
    "arr25=np.array([1,2,3,4,5,6])\n",
    "              # 0,1,2,3,4,5\n",
    "print(arr25[-5:])"
   ]
  },
  {
   "cell_type": "markdown",
   "id": "7be3e863-f5b2-4900-8162-110e6534b76b",
   "metadata": {},
   "source": [
    "# Iterating And 1D,2D,3D And n Dimension Arrays"
   ]
  },
  {
   "cell_type": "code",
   "execution_count": 31,
   "id": "0090a381-90da-445e-ad5d-c413dde5dab5",
   "metadata": {},
   "outputs": [
    {
     "name": "stdout",
     "output_type": "stream",
     "text": [
      "1\n",
      "2\n",
      "3\n",
      "4\n",
      "5\n",
      "6\n",
      "7\n"
     ]
    }
   ],
   "source": [
    "arr27=np.array([1,2,3,4,5,6,7]) # 1D Array Example\n",
    "for i in arr27:\n",
    "    print(i)"
   ]
  },
  {
   "cell_type": "code",
   "execution_count": 32,
   "id": "4572e3b0-2f94-41bd-92fb-2112855ad2f1",
   "metadata": {},
   "outputs": [
    {
     "name": "stdout",
     "output_type": "stream",
     "text": [
      "1\n",
      "2\n",
      "3\n",
      "4\n",
      "5\n",
      "6\n"
     ]
    }
   ],
   "source": [
    "arr27=np.array([[1,2],[3,4],[5,6]]) # 2D Array Example\n",
    "for i in arr27:\n",
    "    for j in i:\n",
    "        print(j)"
   ]
  },
  {
   "cell_type": "code",
   "execution_count": 33,
   "id": "9d536295-0e79-4751-ab04-e58a6f8e5415",
   "metadata": {},
   "outputs": [
    {
     "name": "stdout",
     "output_type": "stream",
     "text": [
      "1\n",
      "2\n",
      "3\n",
      "4\n",
      "5\n",
      "6\n",
      "7\n",
      "8\n",
      "9\n"
     ]
    }
   ],
   "source": [
    "arr27=np.array([[[1,2,3],[4,5,6],[7,8,9]]]) # 3D Array Example\n",
    "for i in arr27:\n",
    "    for j in i:\n",
    "        for k in j:\n",
    "            print(k)"
   ]
  },
  {
   "cell_type": "code",
   "execution_count": 34,
   "id": "897ae198-ba6c-403a-95bd-703308149237",
   "metadata": {},
   "outputs": [
    {
     "name": "stdout",
     "output_type": "stream",
     "text": [
      "1\n",
      "2\n",
      "3\n",
      "4\n",
      "5\n",
      "6\n",
      "7\n",
      "8\n",
      "9\n"
     ]
    }
   ],
   "source": [
    "arr27=np.array([[[1,2,3],[4,5,6],[7,8,9]]]) # 3D Array Example\n",
    "for i in np.nditer(arr27): # nditer func is used to loop over and multidimension arrays.\n",
    "    print(i)"
   ]
  },
  {
   "cell_type": "code",
   "execution_count": 35,
   "id": "491ebed9-fda4-4153-9fe9-a93f200a922e",
   "metadata": {},
   "outputs": [
    {
     "name": "stdout",
     "output_type": "stream",
     "text": [
      "[ 1  2  3  4  5  6  7  8  9 10]\n",
      "The Array is of 1 Dimensions\n",
      "\n",
      "The Elements is at which specific position:-\n",
      "0 1\n",
      "1 2\n",
      "2 3\n",
      "3 4\n",
      "4 5\n",
      "5 6\n",
      "6 7\n",
      "7 8\n",
      "8 9\n",
      "9 10\n"
     ]
    }
   ],
   "source": [
    "arr28=np.array([1,2,3,4,5,6,7,8,9,10])\n",
    "print(arr28)\n",
    "print(\"The Array is of\",arr28.ndim,\"Dimensions\")\n",
    "print()\n",
    "print(\"The Elements is at which specific position:-\")\n",
    "for i,d in enumerate(arr28):\n",
    "    print(i,d)"
   ]
  },
  {
   "cell_type": "markdown",
   "id": "c8ea225e-5f80-4af8-b908-3120bb633f5e",
   "metadata": {},
   "source": [
    "# Copy And View Functions"
   ]
  },
  {
   "cell_type": "code",
   "execution_count": 36,
   "id": "976c12aa-cc06-4da4-99f5-137335e1508a",
   "metadata": {},
   "outputs": [
    {
     "name": "stdout",
     "output_type": "stream",
     "text": [
      "The Original Array is:-\n",
      "[ 1  2  3  4  5  6  7  8  9 10]\n",
      "\n",
      "The Copied Array is:-\n",
      "[10  2  3  4  5  6  7  8  9 10]\n"
     ]
    }
   ],
   "source": [
    "arr30=np.array([1,2,3,4,5,6,7,8,9,10])\n",
    "arrcopy=arr30.copy() # copy function does not change original array.\n",
    "print(\"The Original Array is:-\")\n",
    "print(arr30)\n",
    "print()\n",
    "arrcopy[0]=10\n",
    "print(\"The Copied Array is:-\")\n",
    "print(arrcopy)"
   ]
  },
  {
   "cell_type": "code",
   "execution_count": 37,
   "id": "69d4bb22-6eb1-4d5b-9b56-fb7bac251a20",
   "metadata": {},
   "outputs": [
    {
     "name": "stdout",
     "output_type": "stream",
     "text": [
      "The Original Array is:-\n",
      "[ 1  2  3  4  5  6  7  8  9 10]\n",
      "\n",
      "The Viewed Array is:-\n",
      "[10  2  3  4  5  6  7  8  9 10]\n",
      "\n",
      "Original Array after modifying the view:\n",
      "[10  2  3  4  5  6  7  8  9 10]\n"
     ]
    }
   ],
   "source": [
    "import numpy as np\n",
    "\n",
    "arr31 = np.array([1, 2, 3, 4, 5, 6, 7, 8, 9, 10])\n",
    "arrview = arr31.view()  # View shares the same data, changes affect original\n",
    "\n",
    "print(\"The Original Array is:-\")\n",
    "print(arr31)\n",
    "print()\n",
    "\n",
    "arrview[0] = 10  # Modifies the original array as well!\n",
    "\n",
    "print(\"The Viewed Array is:-\")\n",
    "print(arrview)\n",
    "\n",
    "print()\n",
    "print(\"Original Array after modifying the view:\")\n",
    "print(arr31)\n"
   ]
  },
  {
   "cell_type": "markdown",
   "id": "438f0f75-b481-41c1-abcd-9dadbfb96486",
   "metadata": {},
   "source": [
    "# Min,Max,Argmin and Cumsum Function"
   ]
  },
  {
   "cell_type": "code",
   "execution_count": 38,
   "id": "376c5472-6b6f-46a7-aa62-736290e37fff",
   "metadata": {},
   "outputs": [
    {
     "name": "stdout",
     "output_type": "stream",
     "text": [
      "1\n"
     ]
    }
   ],
   "source": [
    "arr32=np.array([[[1,2,3],[40,50,60],[70,80,90]]])\n",
    "print(arr32.min()) # min func gives the minimum value of an multidimensional / OneD array"
   ]
  },
  {
   "cell_type": "code",
   "execution_count": 39,
   "id": "fd6dab22-1832-4515-9985-3ecf49b8365c",
   "metadata": {},
   "outputs": [
    {
     "name": "stdout",
     "output_type": "stream",
     "text": [
      "90\n"
     ]
    }
   ],
   "source": [
    "arr33=np.array([[[1,2,3],[40,50,60],[70,80,90]]])\n",
    "print(arr32.max()) # max func gives the maximum value of an multidimensional / OneD array"
   ]
  },
  {
   "cell_type": "code",
   "execution_count": 40,
   "id": "c696f23e-508f-422e-8676-e2e7f7f522d0",
   "metadata": {},
   "outputs": [],
   "source": [
    "# arr34=np.array([[[1,2,3],[40,50,60],[70,80,90]]])\n",
    "# print(arr32.max().argmin()) # argmin func gives the  value of an index of  multidimensional / OneD array"
   ]
  },
  {
   "cell_type": "code",
   "execution_count": 41,
   "id": "f6b49dfb-2079-4ceb-86ae-30fd04d67d6e",
   "metadata": {},
   "outputs": [
    {
     "name": "stdout",
     "output_type": "stream",
     "text": [
      "[ 1  3  6 10 15 21 28]\n"
     ]
    }
   ],
   "source": [
    "arr34=np.cumsum([1,2,3,4,5,6,7])\n",
    "print(arr34)"
   ]
  },
  {
   "cell_type": "markdown",
   "id": "d62cee7e-c85a-4e70-ae5a-a0abb5147c85",
   "metadata": {},
   "source": [
    "# Trignometric Functions"
   ]
  },
  {
   "cell_type": "code",
   "execution_count": 42,
   "id": "f125d8bc-1b85-45c3-9f22-4f5c280c260a",
   "metadata": {},
   "outputs": [
    {
     "name": "stdout",
     "output_type": "stream",
     "text": [
      "[ 0.84147098  0.90929743  0.14112001 -0.7568025  -0.95892427 -0.2794155\n",
      "  0.6569866   0.98935825  0.41211849 -0.54402111]\n"
     ]
    }
   ],
   "source": [
    "arr35=np.sin([1,2,3,4,5,6,7,8,9,10]) # sin function gives the sin value of each number/element\n",
    "print(arr35)"
   ]
  },
  {
   "cell_type": "code",
   "execution_count": 43,
   "id": "1eb87b06-82d8-4534-bba0-f950afd090aa",
   "metadata": {},
   "outputs": [
    {
     "name": "stdout",
     "output_type": "stream",
     "text": [
      "[ 0.54030231 -0.41614684 -0.9899925  -0.65364362  0.28366219  0.96017029\n",
      "  0.75390225 -0.14550003 -0.91113026 -0.83907153]\n"
     ]
    }
   ],
   "source": [
    "arr36=np.cos([1,2,3,4,5,6,7,8,9,10]) # cos function gives the cos value of each number/element\n",
    "print(arr36)"
   ]
  },
  {
   "cell_type": "markdown",
   "id": "b8d2eed9-4753-4d4b-a791-0f8077dfa074",
   "metadata": {},
   "source": [
    "# Search And Sorted Functions"
   ]
  },
  {
   "cell_type": "code",
   "execution_count": 49,
   "id": "89526c1e-0c0f-4f0e-9d5e-3d611a3340d3",
   "metadata": {},
   "outputs": [
    {
     "name": "stdout",
     "output_type": "stream",
     "text": [
      "Indices of even numbers: (array([1, 3, 5]),)\n",
      "Even numbers: [2 4 6]\n"
     ]
    }
   ],
   "source": [
    "\n",
    "arr37 = np.array([1, 2, 3, 4, 5, 6])\n",
    "result = np.where(arr37 % 2 == 0)  # Find indices of even numbers\n",
    "\n",
    "print(\"Indices of even numbers:\", result)\n",
    "print(\"Even numbers:\", arr37[result])\n"
   ]
  },
  {
   "cell_type": "code",
   "execution_count": 50,
   "id": "a10c5e84-3c14-4b0c-be50-4a8301314f01",
   "metadata": {},
   "outputs": [
    {
     "name": "stdout",
     "output_type": "stream",
     "text": [
      "[ 2  7  9 10 50 60]\n"
     ]
    }
   ],
   "source": [
    "arr38=np.array([2,7,9,10,50,60])\n",
    "sorted_array=np.sort(arr38)\n",
    "print(sorted_array)"
   ]
  },
  {
   "cell_type": "code",
   "execution_count": 58,
   "id": "99e8efc7-7118-40d4-a873-39c54d66d451",
   "metadata": {},
   "outputs": [
    {
     "name": "stdout",
     "output_type": "stream",
     "text": [
      "Original:\n",
      " [[3 1 2]\n",
      " [6 5 4]]\n",
      "Sorted row-wise:\n",
      " [[1 2 3]\n",
      " [4 5 6]]\n",
      "Sorted column-wise:\n",
      " [[3 1 2]\n",
      " [6 5 4]]\n"
     ]
    }
   ],
   "source": [
    "arr2d = np.array([[3, 1, 2],\n",
    "                  [6, 5, 4]])\n",
    "\n",
    "sorted_rowwise = np.sort(arr2d, axis=1)  # Sort each row\n",
    "sorted_colwise = np.sort(arr2d, axis=0)  # Sort each column\n",
    "\n",
    "print(\"Original:\\n\", arr2d)\n",
    "print(\"Sorted row-wise:\\n\", sorted_rowwise)\n",
    "print(\"Sorted column-wise:\\n\", sorted_colwise)\n"
   ]
  },
  {
   "cell_type": "code",
   "execution_count": 62,
   "id": "f6820808-977f-4454-8b16-a17b0f3ddecc",
   "metadata": {},
   "outputs": [
    {
     "name": "stdout",
     "output_type": "stream",
     "text": [
      "Sorted flattened array: [1 2 3 4]\n"
     ]
    }
   ],
   "source": [
    "arr40 = np.array([[4, 2],[1, 3]])\n",
    "sorted_flat = np.sort(arr40, axis=None)\n",
    "print(\"Sorted flattened array:\", sorted_flat)"
   ]
  },
  {
   "cell_type": "markdown",
   "id": "728f1947-e02b-4ac4-b9aa-b8517ea89f98",
   "metadata": {},
   "source": [
    "# Shuffle,Unique Array Function"
   ]
  },
  {
   "cell_type": "code",
   "execution_count": 71,
   "id": "c0cb9bed-1399-44ed-bf66-0510a28cd2da",
   "metadata": {},
   "outputs": [
    {
     "name": "stdout",
     "output_type": "stream",
     "text": [
      "[1 3 2 5 4]\n"
     ]
    }
   ],
   "source": [
    "arr41=np.array([1,2,3,4,5])\n",
    "np.random.shuffle(arr41)\n",
    "print(arr41)"
   ]
  },
  {
   "cell_type": "code",
   "execution_count": 75,
   "id": "e710e508-ccf9-4ee9-95f4-7501b7079a47",
   "metadata": {},
   "outputs": [
    {
     "name": "stdout",
     "output_type": "stream",
     "text": [
      "[ 1  2  3  4  5  6  7  8  9 10]\n"
     ]
    }
   ],
   "source": [
    "arr42=np.array([1,2,3,4,4,5,5,5,6,6,7,8,9,9,10])\n",
    "unique=np.unique(arr42)\n",
    "print(unique)"
   ]
  },
  {
   "cell_type": "markdown",
   "id": "19286786-22c3-480c-9b22-331a683e246b",
   "metadata": {},
   "source": [
    "# Inserting Element in Array Functions"
   ]
  },
  {
   "cell_type": "code",
   "execution_count": 77,
   "id": "58b40a95-424c-4ca5-9347-fe6625b7f108",
   "metadata": {},
   "outputs": [
    {
     "name": "stdout",
     "output_type": "stream",
     "text": [
      "[1 2 3 4 5 6]\n"
     ]
    }
   ],
   "source": [
    "arr43=np.array([2,3,4,5,6])\n",
    "inserted=np.insert(arr43,0,1)\n",
    "                # arraynam,idxnum,value_to_be_inserted\n",
    "print(inserted)"
   ]
  },
  {
   "cell_type": "code",
   "execution_count": null,
   "id": "06af6540-7723-4473-ae70-a84ad78fe797",
   "metadata": {},
   "outputs": [],
   "source": []
  }
 ],
 "metadata": {
  "kernelspec": {
   "display_name": "Python 3 (ipykernel)",
   "language": "python",
   "name": "python3"
  },
  "language_info": {
   "codemirror_mode": {
    "name": "ipython",
    "version": 3
   },
   "file_extension": ".py",
   "mimetype": "text/x-python",
   "name": "python",
   "nbconvert_exporter": "python",
   "pygments_lexer": "ipython3",
   "version": "3.13.2"
  }
 },
 "nbformat": 4,
 "nbformat_minor": 5
}
